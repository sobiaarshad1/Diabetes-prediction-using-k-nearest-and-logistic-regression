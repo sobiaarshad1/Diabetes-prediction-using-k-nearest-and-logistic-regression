{
 "cells": [
  {
   "cell_type": "code",
   "execution_count": 2,
   "metadata": {
    "ExecuteTime": {
     "end_time": "2020-12-20T12:53:05.226479Z",
     "start_time": "2020-12-20T12:53:03.201580Z"
    }
   },
   "outputs": [],
   "source": [
    "# 04071913001 Fatima Zahid\n",
    "# 04071913002 Sobia Arshad\n",
    "# 04071913003 Afifa Nafees\n",
    "import numpy as np \n",
    "import pandas as pd\n",
    "import matplotlib.pyplot as plt\n",
    "import seaborn as sns"
   ]
  },
  {
   "cell_type": "code",
   "execution_count": 3,
   "metadata": {
    "ExecuteTime": {
     "end_time": "2020-12-20T12:53:05.774253Z",
     "start_time": "2020-12-20T12:53:05.767613Z"
    }
   },
   "outputs": [],
   "source": [
    "import warnings\n",
    "warnings.filterwarnings('ignore')"
   ]
  },
  {
   "cell_type": "code",
   "execution_count": 4,
   "metadata": {
    "ExecuteTime": {
     "end_time": "2020-12-20T12:53:06.822323Z",
     "start_time": "2020-12-20T12:53:06.803458Z"
    }
   },
   "outputs": [],
   "source": [
    "# loading the data using pandas\n",
    "data = pd.read_csv(\"diabetes-dataset.csv\")"
   ]
  },
  {
   "cell_type": "code",
   "execution_count": 5,
   "metadata": {
    "ExecuteTime": {
     "end_time": "2020-12-20T12:53:07.339983Z",
     "start_time": "2020-12-20T12:53:07.299024Z"
    }
   },
   "outputs": [
    {
     "data": {
      "text/html": [
       "<div>\n",
       "<style scoped>\n",
       "    .dataframe tbody tr th:only-of-type {\n",
       "        vertical-align: middle;\n",
       "    }\n",
       "\n",
       "    .dataframe tbody tr th {\n",
       "        vertical-align: top;\n",
       "    }\n",
       "\n",
       "    .dataframe thead th {\n",
       "        text-align: right;\n",
       "    }\n",
       "</style>\n",
       "<table border=\"1\" class=\"dataframe\">\n",
       "  <thead>\n",
       "    <tr style=\"text-align: right;\">\n",
       "      <th></th>\n",
       "      <th>Pregnancies</th>\n",
       "      <th>Glucose</th>\n",
       "      <th>BloodPressure</th>\n",
       "      <th>SkinThickness</th>\n",
       "      <th>Insulin</th>\n",
       "      <th>BMI</th>\n",
       "      <th>DiabetesPedigreeFunction</th>\n",
       "      <th>Age</th>\n",
       "      <th>Outcome</th>\n",
       "    </tr>\n",
       "  </thead>\n",
       "  <tbody>\n",
       "    <tr>\n",
       "      <th>0</th>\n",
       "      <td>2</td>\n",
       "      <td>138</td>\n",
       "      <td>62</td>\n",
       "      <td>35</td>\n",
       "      <td>0</td>\n",
       "      <td>33.6</td>\n",
       "      <td>0.127</td>\n",
       "      <td>47</td>\n",
       "      <td>1</td>\n",
       "    </tr>\n",
       "    <tr>\n",
       "      <th>1</th>\n",
       "      <td>0</td>\n",
       "      <td>84</td>\n",
       "      <td>82</td>\n",
       "      <td>31</td>\n",
       "      <td>125</td>\n",
       "      <td>38.2</td>\n",
       "      <td>0.233</td>\n",
       "      <td>23</td>\n",
       "      <td>0</td>\n",
       "    </tr>\n",
       "    <tr>\n",
       "      <th>2</th>\n",
       "      <td>0</td>\n",
       "      <td>145</td>\n",
       "      <td>0</td>\n",
       "      <td>0</td>\n",
       "      <td>0</td>\n",
       "      <td>44.2</td>\n",
       "      <td>0.630</td>\n",
       "      <td>31</td>\n",
       "      <td>1</td>\n",
       "    </tr>\n",
       "    <tr>\n",
       "      <th>3</th>\n",
       "      <td>0</td>\n",
       "      <td>135</td>\n",
       "      <td>68</td>\n",
       "      <td>42</td>\n",
       "      <td>250</td>\n",
       "      <td>42.3</td>\n",
       "      <td>0.365</td>\n",
       "      <td>24</td>\n",
       "      <td>1</td>\n",
       "    </tr>\n",
       "    <tr>\n",
       "      <th>4</th>\n",
       "      <td>1</td>\n",
       "      <td>139</td>\n",
       "      <td>62</td>\n",
       "      <td>41</td>\n",
       "      <td>480</td>\n",
       "      <td>40.7</td>\n",
       "      <td>0.536</td>\n",
       "      <td>21</td>\n",
       "      <td>0</td>\n",
       "    </tr>\n",
       "  </tbody>\n",
       "</table>\n",
       "</div>"
      ],
      "text/plain": [
       "   Pregnancies  Glucose  BloodPressure  SkinThickness  Insulin   BMI  \\\n",
       "0            2      138             62             35        0  33.6   \n",
       "1            0       84             82             31      125  38.2   \n",
       "2            0      145              0              0        0  44.2   \n",
       "3            0      135             68             42      250  42.3   \n",
       "4            1      139             62             41      480  40.7   \n",
       "\n",
       "   DiabetesPedigreeFunction  Age  Outcome  \n",
       "0                     0.127   47        1  \n",
       "1                     0.233   23        0  \n",
       "2                     0.630   31        1  \n",
       "3                     0.365   24        1  \n",
       "4                     0.536   21        0  "
      ]
     },
     "execution_count": 5,
     "metadata": {},
     "output_type": "execute_result"
    }
   ],
   "source": [
    "# Displaying top 5 rows\n",
    "data.head()"
   ]
  },
  {
   "cell_type": "code",
   "execution_count": 6,
   "metadata": {
    "ExecuteTime": {
     "end_time": "2020-12-20T12:53:07.694470Z",
     "start_time": "2020-12-20T12:53:07.674169Z"
    }
   },
   "outputs": [
    {
     "data": {
      "text/html": [
       "<div>\n",
       "<style scoped>\n",
       "    .dataframe tbody tr th:only-of-type {\n",
       "        vertical-align: middle;\n",
       "    }\n",
       "\n",
       "    .dataframe tbody tr th {\n",
       "        vertical-align: top;\n",
       "    }\n",
       "\n",
       "    .dataframe thead th {\n",
       "        text-align: right;\n",
       "    }\n",
       "</style>\n",
       "<table border=\"1\" class=\"dataframe\">\n",
       "  <thead>\n",
       "    <tr style=\"text-align: right;\">\n",
       "      <th></th>\n",
       "      <th>Pregnancies</th>\n",
       "      <th>Glucose</th>\n",
       "      <th>BloodPressure</th>\n",
       "      <th>SkinThickness</th>\n",
       "      <th>Insulin</th>\n",
       "      <th>BMI</th>\n",
       "      <th>DiabetesPedigreeFunction</th>\n",
       "      <th>Age</th>\n",
       "      <th>Outcome</th>\n",
       "    </tr>\n",
       "  </thead>\n",
       "  <tbody>\n",
       "    <tr>\n",
       "      <th>10316</th>\n",
       "      <td>1</td>\n",
       "      <td>100</td>\n",
       "      <td>62</td>\n",
       "      <td>0</td>\n",
       "      <td>0</td>\n",
       "      <td>64.4</td>\n",
       "      <td>0.152</td>\n",
       "      <td>36</td>\n",
       "      <td>0</td>\n",
       "    </tr>\n",
       "    <tr>\n",
       "      <th>10317</th>\n",
       "      <td>0</td>\n",
       "      <td>163</td>\n",
       "      <td>40</td>\n",
       "      <td>23</td>\n",
       "      <td>64</td>\n",
       "      <td>40.7</td>\n",
       "      <td>0.322</td>\n",
       "      <td>33</td>\n",
       "      <td>0</td>\n",
       "    </tr>\n",
       "    <tr>\n",
       "      <th>10318</th>\n",
       "      <td>6</td>\n",
       "      <td>139</td>\n",
       "      <td>84</td>\n",
       "      <td>37</td>\n",
       "      <td>0</td>\n",
       "      <td>50.7</td>\n",
       "      <td>0.320</td>\n",
       "      <td>50</td>\n",
       "      <td>1</td>\n",
       "    </tr>\n",
       "    <tr>\n",
       "      <th>10319</th>\n",
       "      <td>2</td>\n",
       "      <td>167</td>\n",
       "      <td>44</td>\n",
       "      <td>30</td>\n",
       "      <td>140</td>\n",
       "      <td>52.7</td>\n",
       "      <td>0.452</td>\n",
       "      <td>28</td>\n",
       "      <td>0</td>\n",
       "    </tr>\n",
       "    <tr>\n",
       "      <th>10320</th>\n",
       "      <td>3</td>\n",
       "      <td>162</td>\n",
       "      <td>0</td>\n",
       "      <td>110</td>\n",
       "      <td>215</td>\n",
       "      <td>48.7</td>\n",
       "      <td>0.520</td>\n",
       "      <td>24</td>\n",
       "      <td>0</td>\n",
       "    </tr>\n",
       "  </tbody>\n",
       "</table>\n",
       "</div>"
      ],
      "text/plain": [
       "       Pregnancies  Glucose  BloodPressure  SkinThickness  Insulin   BMI  \\\n",
       "10316            1      100             62              0        0  64.4   \n",
       "10317            0      163             40             23       64  40.7   \n",
       "10318            6      139             84             37        0  50.7   \n",
       "10319            2      167             44             30      140  52.7   \n",
       "10320            3      162              0            110      215  48.7   \n",
       "\n",
       "       DiabetesPedigreeFunction  Age  Outcome  \n",
       "10316                     0.152   36        0  \n",
       "10317                     0.322   33        0  \n",
       "10318                     0.320   50        1  \n",
       "10319                     0.452   28        0  \n",
       "10320                     0.520   24        0  "
      ]
     },
     "execution_count": 6,
     "metadata": {},
     "output_type": "execute_result"
    }
   ],
   "source": [
    "# Displaying last 5 rows \n",
    "data.tail()"
   ]
  },
  {
   "cell_type": "code",
   "execution_count": 7,
   "metadata": {
    "ExecuteTime": {
     "end_time": "2020-12-20T12:53:07.961611Z",
     "start_time": "2020-12-20T12:53:07.952910Z"
    }
   },
   "outputs": [
    {
     "data": {
      "text/plain": [
       "(10321, 9)"
      ]
     },
     "execution_count": 7,
     "metadata": {},
     "output_type": "execute_result"
    }
   ],
   "source": [
    "# Displaying total rows and columns \n",
    "data.shape"
   ]
  },
  {
   "cell_type": "code",
   "execution_count": 8,
   "metadata": {
    "ExecuteTime": {
     "end_time": "2020-12-20T12:53:08.254932Z",
     "start_time": "2020-12-20T12:53:08.242551Z"
    }
   },
   "outputs": [
    {
     "data": {
      "text/plain": [
       "Pregnancies                   int64\n",
       "Glucose                       int64\n",
       "BloodPressure                 int64\n",
       "SkinThickness                 int64\n",
       "Insulin                       int64\n",
       "BMI                         float64\n",
       "DiabetesPedigreeFunction    float64\n",
       "Age                           int64\n",
       "Outcome                       int64\n",
       "dtype: object"
      ]
     },
     "execution_count": 8,
     "metadata": {},
     "output_type": "execute_result"
    }
   ],
   "source": [
    "# Displaying the variable type \n",
    "data.dtypes"
   ]
  },
  {
   "cell_type": "code",
   "execution_count": 9,
   "metadata": {
    "ExecuteTime": {
     "end_time": "2020-12-20T12:53:08.575964Z",
     "start_time": "2020-12-20T12:53:08.554208Z"
    }
   },
   "outputs": [
    {
     "name": "stdout",
     "output_type": "stream",
     "text": [
      "<class 'pandas.core.frame.DataFrame'>\n",
      "RangeIndex: 10321 entries, 0 to 10320\n",
      "Data columns (total 9 columns):\n",
      " #   Column                    Non-Null Count  Dtype  \n",
      "---  ------                    --------------  -----  \n",
      " 0   Pregnancies               10321 non-null  int64  \n",
      " 1   Glucose                   10321 non-null  int64  \n",
      " 2   BloodPressure             10321 non-null  int64  \n",
      " 3   SkinThickness             10321 non-null  int64  \n",
      " 4   Insulin                   10321 non-null  int64  \n",
      " 5   BMI                       10321 non-null  float64\n",
      " 6   DiabetesPedigreeFunction  10321 non-null  float64\n",
      " 7   Age                       10321 non-null  int64  \n",
      " 8   Outcome                   10321 non-null  int64  \n",
      "dtypes: float64(2), int64(7)\n",
      "memory usage: 725.8 KB\n"
     ]
    }
   ],
   "source": [
    "# Summary of Dataframe\n",
    "data.info()"
   ]
  },
  {
   "cell_type": "code",
   "execution_count": 10,
   "metadata": {
    "ExecuteTime": {
     "end_time": "2020-12-20T12:53:08.964734Z",
     "start_time": "2020-12-20T12:53:08.853261Z"
    }
   },
   "outputs": [
    {
     "data": {
      "text/html": [
       "<div>\n",
       "<style scoped>\n",
       "    .dataframe tbody tr th:only-of-type {\n",
       "        vertical-align: middle;\n",
       "    }\n",
       "\n",
       "    .dataframe tbody tr th {\n",
       "        vertical-align: top;\n",
       "    }\n",
       "\n",
       "    .dataframe thead th {\n",
       "        text-align: right;\n",
       "    }\n",
       "</style>\n",
       "<table border=\"1\" class=\"dataframe\">\n",
       "  <thead>\n",
       "    <tr style=\"text-align: right;\">\n",
       "      <th></th>\n",
       "      <th>count</th>\n",
       "      <th>mean</th>\n",
       "      <th>std</th>\n",
       "      <th>min</th>\n",
       "      <th>25%</th>\n",
       "      <th>50%</th>\n",
       "      <th>75%</th>\n",
       "      <th>max</th>\n",
       "    </tr>\n",
       "  </thead>\n",
       "  <tbody>\n",
       "    <tr>\n",
       "      <th>Pregnancies</th>\n",
       "      <td>10321.0</td>\n",
       "      <td>3.740820</td>\n",
       "      <td>3.323362</td>\n",
       "      <td>0.0</td>\n",
       "      <td>1.000</td>\n",
       "      <td>3.00</td>\n",
       "      <td>6.000</td>\n",
       "      <td>17.0</td>\n",
       "    </tr>\n",
       "    <tr>\n",
       "      <th>Glucose</th>\n",
       "      <td>10321.0</td>\n",
       "      <td>120.853115</td>\n",
       "      <td>31.893921</td>\n",
       "      <td>0.0</td>\n",
       "      <td>99.000</td>\n",
       "      <td>117.00</td>\n",
       "      <td>141.000</td>\n",
       "      <td>199.0</td>\n",
       "    </tr>\n",
       "    <tr>\n",
       "      <th>BloodPressure</th>\n",
       "      <td>10321.0</td>\n",
       "      <td>69.164810</td>\n",
       "      <td>19.163223</td>\n",
       "      <td>0.0</td>\n",
       "      <td>62.000</td>\n",
       "      <td>72.00</td>\n",
       "      <td>80.000</td>\n",
       "      <td>122.0</td>\n",
       "    </tr>\n",
       "    <tr>\n",
       "      <th>SkinThickness</th>\n",
       "      <td>10321.0</td>\n",
       "      <td>20.813875</td>\n",
       "      <td>15.980352</td>\n",
       "      <td>0.0</td>\n",
       "      <td>0.000</td>\n",
       "      <td>23.00</td>\n",
       "      <td>32.000</td>\n",
       "      <td>110.0</td>\n",
       "    </tr>\n",
       "    <tr>\n",
       "      <th>Insulin</th>\n",
       "      <td>10321.0</td>\n",
       "      <td>80.079450</td>\n",
       "      <td>112.238381</td>\n",
       "      <td>0.0</td>\n",
       "      <td>0.000</td>\n",
       "      <td>37.00</td>\n",
       "      <td>130.000</td>\n",
       "      <td>846.0</td>\n",
       "    </tr>\n",
       "    <tr>\n",
       "      <th>BMI</th>\n",
       "      <td>10321.0</td>\n",
       "      <td>31.553076</td>\n",
       "      <td>8.963910</td>\n",
       "      <td>0.0</td>\n",
       "      <td>26.800</td>\n",
       "      <td>32.00</td>\n",
       "      <td>36.600</td>\n",
       "      <td>80.6</td>\n",
       "    </tr>\n",
       "    <tr>\n",
       "      <th>DiabetesPedigreeFunction</th>\n",
       "      <td>10321.0</td>\n",
       "      <td>4.121653</td>\n",
       "      <td>29.294134</td>\n",
       "      <td>0.0</td>\n",
       "      <td>0.237</td>\n",
       "      <td>0.37</td>\n",
       "      <td>0.637</td>\n",
       "      <td>510.0</td>\n",
       "    </tr>\n",
       "    <tr>\n",
       "      <th>Age</th>\n",
       "      <td>10321.0</td>\n",
       "      <td>33.028098</td>\n",
       "      <td>11.708548</td>\n",
       "      <td>21.0</td>\n",
       "      <td>24.000</td>\n",
       "      <td>29.00</td>\n",
       "      <td>40.000</td>\n",
       "      <td>81.0</td>\n",
       "    </tr>\n",
       "    <tr>\n",
       "      <th>Outcome</th>\n",
       "      <td>10321.0</td>\n",
       "      <td>0.346672</td>\n",
       "      <td>0.475933</td>\n",
       "      <td>0.0</td>\n",
       "      <td>0.000</td>\n",
       "      <td>0.00</td>\n",
       "      <td>1.000</td>\n",
       "      <td>1.0</td>\n",
       "    </tr>\n",
       "  </tbody>\n",
       "</table>\n",
       "</div>"
      ],
      "text/plain": [
       "                            count        mean         std   min     25%  \\\n",
       "Pregnancies               10321.0    3.740820    3.323362   0.0   1.000   \n",
       "Glucose                   10321.0  120.853115   31.893921   0.0  99.000   \n",
       "BloodPressure             10321.0   69.164810   19.163223   0.0  62.000   \n",
       "SkinThickness             10321.0   20.813875   15.980352   0.0   0.000   \n",
       "Insulin                   10321.0   80.079450  112.238381   0.0   0.000   \n",
       "BMI                       10321.0   31.553076    8.963910   0.0  26.800   \n",
       "DiabetesPedigreeFunction  10321.0    4.121653   29.294134   0.0   0.237   \n",
       "Age                       10321.0   33.028098   11.708548  21.0  24.000   \n",
       "Outcome                   10321.0    0.346672    0.475933   0.0   0.000   \n",
       "\n",
       "                             50%      75%    max  \n",
       "Pregnancies                 3.00    6.000   17.0  \n",
       "Glucose                   117.00  141.000  199.0  \n",
       "BloodPressure              72.00   80.000  122.0  \n",
       "SkinThickness              23.00   32.000  110.0  \n",
       "Insulin                    37.00  130.000  846.0  \n",
       "BMI                        32.00   36.600   80.6  \n",
       "DiabetesPedigreeFunction    0.37    0.637  510.0  \n",
       "Age                        29.00   40.000   81.0  \n",
       "Outcome                     0.00    1.000    1.0  "
      ]
     },
     "execution_count": 10,
     "metadata": {},
     "output_type": "execute_result"
    }
   ],
   "source": [
    "data.describe().T"
   ]
  },
  {
   "cell_type": "code",
   "execution_count": 11,
   "metadata": {
    "ExecuteTime": {
     "end_time": "2020-12-20T12:53:09.786329Z",
     "start_time": "2020-12-20T12:53:09.780276Z"
    }
   },
   "outputs": [],
   "source": [
    "# Copy the data into df\n",
    "df = data.copy(deep = True)"
   ]
  },
  {
   "cell_type": "code",
   "execution_count": 12,
   "metadata": {
    "ExecuteTime": {
     "end_time": "2020-12-20T12:53:10.710785Z",
     "start_time": "2020-12-20T12:53:10.693742Z"
    }
   },
   "outputs": [
    {
     "name": "stdout",
     "output_type": "stream",
     "text": [
      "Pregnancies                 1515\n",
      "Glucose                       62\n",
      "BloodPressure                454\n",
      "SkinThickness               2984\n",
      "Insulin                     4963\n",
      "BMI                          295\n",
      "DiabetesPedigreeFunction     260\n",
      "Age                            0\n",
      "Outcome                     6743\n",
      "dtype: int64\n"
     ]
    }
   ],
   "source": [
    "# Displaying the number of zero in data\n",
    "print(df.isin([0]).sum())"
   ]
  },
  {
   "cell_type": "code",
   "execution_count": 13,
   "metadata": {
    "ExecuteTime": {
     "end_time": "2020-12-20T12:53:13.125174Z",
     "start_time": "2020-12-20T12:53:13.104523Z"
    }
   },
   "outputs": [],
   "source": [
    "# Replacing zero(0) to NaN \n",
    "df[['Glucose','BloodPressure','SkinThickness','Insulin','BMI']]=df[['Glucose','BloodPressure','SkinThickness','Insulin','BMI']].replace(0,np.NaN)"
   ]
  },
  {
   "cell_type": "code",
   "execution_count": 14,
   "metadata": {
    "ExecuteTime": {
     "end_time": "2020-12-20T12:53:14.171527Z",
     "start_time": "2020-12-20T12:53:14.152683Z"
    },
    "scrolled": true
   },
   "outputs": [
    {
     "name": "stdout",
     "output_type": "stream",
     "text": [
      "Pregnancies                    0\n",
      "Glucose                       62\n",
      "BloodPressure                454\n",
      "SkinThickness               2984\n",
      "Insulin                     4963\n",
      "BMI                          295\n",
      "DiabetesPedigreeFunction       0\n",
      "Age                            0\n",
      "Outcome                        0\n",
      "dtype: int64\n"
     ]
    }
   ],
   "source": [
    "# Displaying the count of Nans\n",
    "print(df.isnull().sum())"
   ]
  },
  {
   "cell_type": "code",
   "execution_count": 15,
   "metadata": {
    "ExecuteTime": {
     "end_time": "2020-12-20T13:02:28.333992Z",
     "start_time": "2020-12-20T13:02:28.321459Z"
    }
   },
   "outputs": [],
   "source": [
    "# Filling all NaN to mean values\n",
    "df['Glucose'].fillna(df['Glucose'].mean(), inplace = True)\n",
    "\n",
    "df['BloodPressure'].fillna(df['BloodPressure'].mean(), inplace = True)\n",
    "\n",
    "df['SkinThickness'].fillna(df['SkinThickness'].mean(), inplace = True)\n",
    "\n",
    "df['Insulin'].fillna(df['Insulin'].mean(), inplace = True)\n",
    "\n",
    "df['BMI'].fillna(df['BMI'].mean(), inplace = True)"
   ]
  },
  {
   "cell_type": "code",
   "execution_count": 16,
   "metadata": {
    "ExecuteTime": {
     "end_time": "2020-12-20T13:02:28.702001Z",
     "start_time": "2020-12-20T13:02:28.683122Z"
    }
   },
   "outputs": [
    {
     "name": "stdout",
     "output_type": "stream",
     "text": [
      "Pregnancies                 0\n",
      "Glucose                     0\n",
      "BloodPressure               0\n",
      "SkinThickness               0\n",
      "Insulin                     0\n",
      "BMI                         0\n",
      "DiabetesPedigreeFunction    0\n",
      "Age                         0\n",
      "Outcome                     0\n",
      "dtype: int64\n"
     ]
    }
   ],
   "source": [
    "# Displaying the count of Nans\n",
    "print(df.isnull().sum())"
   ]
  },
  {
   "cell_type": "code",
   "execution_count": 17,
   "metadata": {
    "ExecuteTime": {
     "end_time": "2020-12-20T13:02:29.498239Z",
     "start_time": "2020-12-20T13:02:29.467589Z"
    }
   },
   "outputs": [
    {
     "data": {
      "text/html": [
       "<div>\n",
       "<style scoped>\n",
       "    .dataframe tbody tr th:only-of-type {\n",
       "        vertical-align: middle;\n",
       "    }\n",
       "\n",
       "    .dataframe tbody tr th {\n",
       "        vertical-align: top;\n",
       "    }\n",
       "\n",
       "    .dataframe thead th {\n",
       "        text-align: right;\n",
       "    }\n",
       "</style>\n",
       "<table border=\"1\" class=\"dataframe\">\n",
       "  <thead>\n",
       "    <tr style=\"text-align: right;\">\n",
       "      <th></th>\n",
       "      <th>Pregnancies</th>\n",
       "      <th>Glucose</th>\n",
       "      <th>BloodPressure</th>\n",
       "      <th>SkinThickness</th>\n",
       "      <th>Insulin</th>\n",
       "      <th>BMI</th>\n",
       "      <th>DiabetesPedigreeFunction</th>\n",
       "      <th>Age</th>\n",
       "      <th>Outcome</th>\n",
       "    </tr>\n",
       "  </thead>\n",
       "  <tbody>\n",
       "    <tr>\n",
       "      <th>0</th>\n",
       "      <td>2</td>\n",
       "      <td>138.0</td>\n",
       "      <td>62.000000</td>\n",
       "      <td>35.000000</td>\n",
       "      <td>154.255319</td>\n",
       "      <td>33.6</td>\n",
       "      <td>0.127</td>\n",
       "      <td>47</td>\n",
       "      <td>1</td>\n",
       "    </tr>\n",
       "    <tr>\n",
       "      <th>1</th>\n",
       "      <td>0</td>\n",
       "      <td>84.0</td>\n",
       "      <td>82.000000</td>\n",
       "      <td>31.000000</td>\n",
       "      <td>125.000000</td>\n",
       "      <td>38.2</td>\n",
       "      <td>0.233</td>\n",
       "      <td>23</td>\n",
       "      <td>0</td>\n",
       "    </tr>\n",
       "    <tr>\n",
       "      <th>2</th>\n",
       "      <td>0</td>\n",
       "      <td>145.0</td>\n",
       "      <td>72.347218</td>\n",
       "      <td>29.278997</td>\n",
       "      <td>154.255319</td>\n",
       "      <td>44.2</td>\n",
       "      <td>0.630</td>\n",
       "      <td>31</td>\n",
       "      <td>1</td>\n",
       "    </tr>\n",
       "    <tr>\n",
       "      <th>3</th>\n",
       "      <td>0</td>\n",
       "      <td>135.0</td>\n",
       "      <td>68.000000</td>\n",
       "      <td>42.000000</td>\n",
       "      <td>250.000000</td>\n",
       "      <td>42.3</td>\n",
       "      <td>0.365</td>\n",
       "      <td>24</td>\n",
       "      <td>1</td>\n",
       "    </tr>\n",
       "    <tr>\n",
       "      <th>4</th>\n",
       "      <td>1</td>\n",
       "      <td>139.0</td>\n",
       "      <td>62.000000</td>\n",
       "      <td>41.000000</td>\n",
       "      <td>480.000000</td>\n",
       "      <td>40.7</td>\n",
       "      <td>0.536</td>\n",
       "      <td>21</td>\n",
       "      <td>0</td>\n",
       "    </tr>\n",
       "  </tbody>\n",
       "</table>\n",
       "</div>"
      ],
      "text/plain": [
       "   Pregnancies  Glucose  BloodPressure  SkinThickness     Insulin   BMI  \\\n",
       "0            2    138.0      62.000000      35.000000  154.255319  33.6   \n",
       "1            0     84.0      82.000000      31.000000  125.000000  38.2   \n",
       "2            0    145.0      72.347218      29.278997  154.255319  44.2   \n",
       "3            0    135.0      68.000000      42.000000  250.000000  42.3   \n",
       "4            1    139.0      62.000000      41.000000  480.000000  40.7   \n",
       "\n",
       "   DiabetesPedigreeFunction  Age  Outcome  \n",
       "0                     0.127   47        1  \n",
       "1                     0.233   23        0  \n",
       "2                     0.630   31        1  \n",
       "3                     0.365   24        1  \n",
       "4                     0.536   21        0  "
      ]
     },
     "execution_count": 17,
     "metadata": {},
     "output_type": "execute_result"
    }
   ],
   "source": [
    "df.head()"
   ]
  },
  {
   "cell_type": "code",
   "execution_count": 18,
   "metadata": {
    "ExecuteTime": {
     "end_time": "2020-12-20T13:02:36.729816Z",
     "start_time": "2020-12-20T13:02:31.044021Z"
    }
   },
   "outputs": [],
   "source": [
    "#Barplot visualization of number of non-diabetic (0) and diabetic (1) people in the dataset\n",
    "# print(df['Outcome'].value_counts())\n",
    "# sns.countplot(df['Outcome'])"
   ]
  },
  {
   "cell_type": "code",
   "execution_count": 19,
   "metadata": {
    "ExecuteTime": {
     "end_time": "2020-11-03T13:26:03.163944Z",
     "start_time": "2020-11-03T13:26:03.129020Z"
    }
   },
   "outputs": [
    {
     "data": {
      "text/html": [
       "<div>\n",
       "<style scoped>\n",
       "    .dataframe tbody tr th:only-of-type {\n",
       "        vertical-align: middle;\n",
       "    }\n",
       "\n",
       "    .dataframe tbody tr th {\n",
       "        vertical-align: top;\n",
       "    }\n",
       "\n",
       "    .dataframe thead th {\n",
       "        text-align: right;\n",
       "    }\n",
       "</style>\n",
       "<table border=\"1\" class=\"dataframe\">\n",
       "  <thead>\n",
       "    <tr style=\"text-align: right;\">\n",
       "      <th></th>\n",
       "      <th>Pregnancies</th>\n",
       "      <th>Glucose</th>\n",
       "      <th>BloodPressure</th>\n",
       "      <th>SkinThickness</th>\n",
       "      <th>Insulin</th>\n",
       "      <th>BMI</th>\n",
       "      <th>DiabetesPedigreeFunction</th>\n",
       "      <th>Age</th>\n",
       "      <th>Outcome</th>\n",
       "    </tr>\n",
       "  </thead>\n",
       "  <tbody>\n",
       "    <tr>\n",
       "      <th>Pregnancies</th>\n",
       "      <td>1.000000</td>\n",
       "      <td>0.121385</td>\n",
       "      <td>0.196792</td>\n",
       "      <td>0.086079</td>\n",
       "      <td>0.062369</td>\n",
       "      <td>0.020114</td>\n",
       "      <td>0.004873</td>\n",
       "      <td>0.516297</td>\n",
       "      <td>0.216034</td>\n",
       "    </tr>\n",
       "    <tr>\n",
       "      <th>Glucose</th>\n",
       "      <td>0.121385</td>\n",
       "      <td>1.000000</td>\n",
       "      <td>0.212253</td>\n",
       "      <td>0.199374</td>\n",
       "      <td>0.397109</td>\n",
       "      <td>0.222119</td>\n",
       "      <td>-0.000552</td>\n",
       "      <td>0.245715</td>\n",
       "      <td>0.463213</td>\n",
       "    </tr>\n",
       "    <tr>\n",
       "      <th>BloodPressure</th>\n",
       "      <td>0.196792</td>\n",
       "      <td>0.212253</td>\n",
       "      <td>1.000000</td>\n",
       "      <td>0.194878</td>\n",
       "      <td>0.075789</td>\n",
       "      <td>0.254884</td>\n",
       "      <td>0.010991</td>\n",
       "      <td>0.314523</td>\n",
       "      <td>0.167776</td>\n",
       "    </tr>\n",
       "    <tr>\n",
       "      <th>SkinThickness</th>\n",
       "      <td>0.086079</td>\n",
       "      <td>0.199374</td>\n",
       "      <td>0.194878</td>\n",
       "      <td>1.000000</td>\n",
       "      <td>0.161857</td>\n",
       "      <td>0.503599</td>\n",
       "      <td>0.033473</td>\n",
       "      <td>0.131841</td>\n",
       "      <td>0.194631</td>\n",
       "    </tr>\n",
       "    <tr>\n",
       "      <th>Insulin</th>\n",
       "      <td>0.062369</td>\n",
       "      <td>0.397109</td>\n",
       "      <td>0.075789</td>\n",
       "      <td>0.161857</td>\n",
       "      <td>1.000000</td>\n",
       "      <td>0.162774</td>\n",
       "      <td>0.005090</td>\n",
       "      <td>0.098445</td>\n",
       "      <td>0.199876</td>\n",
       "    </tr>\n",
       "    <tr>\n",
       "      <th>BMI</th>\n",
       "      <td>0.020114</td>\n",
       "      <td>0.222119</td>\n",
       "      <td>0.254884</td>\n",
       "      <td>0.503599</td>\n",
       "      <td>0.162774</td>\n",
       "      <td>1.000000</td>\n",
       "      <td>-0.030791</td>\n",
       "      <td>0.024640</td>\n",
       "      <td>0.281631</td>\n",
       "    </tr>\n",
       "    <tr>\n",
       "      <th>DiabetesPedigreeFunction</th>\n",
       "      <td>0.004873</td>\n",
       "      <td>-0.000552</td>\n",
       "      <td>0.010991</td>\n",
       "      <td>0.033473</td>\n",
       "      <td>0.005090</td>\n",
       "      <td>-0.030791</td>\n",
       "      <td>1.000000</td>\n",
       "      <td>0.008318</td>\n",
       "      <td>0.005771</td>\n",
       "    </tr>\n",
       "    <tr>\n",
       "      <th>Age</th>\n",
       "      <td>0.516297</td>\n",
       "      <td>0.245715</td>\n",
       "      <td>0.314523</td>\n",
       "      <td>0.131841</td>\n",
       "      <td>0.098445</td>\n",
       "      <td>0.024640</td>\n",
       "      <td>0.008318</td>\n",
       "      <td>1.000000</td>\n",
       "      <td>0.241053</td>\n",
       "    </tr>\n",
       "    <tr>\n",
       "      <th>Outcome</th>\n",
       "      <td>0.216034</td>\n",
       "      <td>0.463213</td>\n",
       "      <td>0.167776</td>\n",
       "      <td>0.194631</td>\n",
       "      <td>0.199876</td>\n",
       "      <td>0.281631</td>\n",
       "      <td>0.005771</td>\n",
       "      <td>0.241053</td>\n",
       "      <td>1.000000</td>\n",
       "    </tr>\n",
       "  </tbody>\n",
       "</table>\n",
       "</div>"
      ],
      "text/plain": [
       "                          Pregnancies   Glucose  BloodPressure  SkinThickness  \\\n",
       "Pregnancies                  1.000000  0.121385       0.196792       0.086079   \n",
       "Glucose                      0.121385  1.000000       0.212253       0.199374   \n",
       "BloodPressure                0.196792  0.212253       1.000000       0.194878   \n",
       "SkinThickness                0.086079  0.199374       0.194878       1.000000   \n",
       "Insulin                      0.062369  0.397109       0.075789       0.161857   \n",
       "BMI                          0.020114  0.222119       0.254884       0.503599   \n",
       "DiabetesPedigreeFunction     0.004873 -0.000552       0.010991       0.033473   \n",
       "Age                          0.516297  0.245715       0.314523       0.131841   \n",
       "Outcome                      0.216034  0.463213       0.167776       0.194631   \n",
       "\n",
       "                           Insulin       BMI  DiabetesPedigreeFunction  \\\n",
       "Pregnancies               0.062369  0.020114                  0.004873   \n",
       "Glucose                   0.397109  0.222119                 -0.000552   \n",
       "BloodPressure             0.075789  0.254884                  0.010991   \n",
       "SkinThickness             0.161857  0.503599                  0.033473   \n",
       "Insulin                   1.000000  0.162774                  0.005090   \n",
       "BMI                       0.162774  1.000000                 -0.030791   \n",
       "DiabetesPedigreeFunction  0.005090 -0.030791                  1.000000   \n",
       "Age                       0.098445  0.024640                  0.008318   \n",
       "Outcome                   0.199876  0.281631                  0.005771   \n",
       "\n",
       "                               Age   Outcome  \n",
       "Pregnancies               0.516297  0.216034  \n",
       "Glucose                   0.245715  0.463213  \n",
       "BloodPressure             0.314523  0.167776  \n",
       "SkinThickness             0.131841  0.194631  \n",
       "Insulin                   0.098445  0.199876  \n",
       "BMI                       0.024640  0.281631  \n",
       "DiabetesPedigreeFunction  0.008318  0.005771  \n",
       "Age                       1.000000  0.241053  \n",
       "Outcome                   0.241053  1.000000  "
      ]
     },
     "execution_count": 19,
     "metadata": {},
     "output_type": "execute_result"
    }
   ],
   "source": [
    "# Correlation Matrix\n",
    "df.corr()"
   ]
  },
  {
   "cell_type": "code",
   "execution_count": 20,
   "metadata": {
    "ExecuteTime": {
     "end_time": "2020-11-03T13:26:03.738931Z",
     "start_time": "2020-11-03T13:26:03.166936Z"
    }
   },
   "outputs": [],
   "source": [
    "# plt.figure(figsize=(10,10))\n",
    "# sns.heatmap(df.corr())"
   ]
  },
  {
   "cell_type": "code",
   "execution_count": 21,
   "metadata": {
    "ExecuteTime": {
     "end_time": "2020-12-20T13:02:36.753075Z",
     "start_time": "2020-12-20T13:02:36.735500Z"
    }
   },
   "outputs": [],
   "source": [
    "# Split independent(x) and dependent(y) data\n",
    "x=df[[\"Glucose\",\"BloodPressure\",\"SkinThickness\",\"Insulin\",\"BMI\"]]\n",
    "y=df[\"Outcome\"]"
   ]
  },
  {
   "cell_type": "code",
   "execution_count": 22,
   "metadata": {
    "ExecuteTime": {
     "end_time": "2020-12-20T13:02:37.515886Z",
     "start_time": "2020-12-20T13:02:37.490152Z"
    }
   },
   "outputs": [
    {
     "data": {
      "text/html": [
       "<div>\n",
       "<style scoped>\n",
       "    .dataframe tbody tr th:only-of-type {\n",
       "        vertical-align: middle;\n",
       "    }\n",
       "\n",
       "    .dataframe tbody tr th {\n",
       "        vertical-align: top;\n",
       "    }\n",
       "\n",
       "    .dataframe thead th {\n",
       "        text-align: right;\n",
       "    }\n",
       "</style>\n",
       "<table border=\"1\" class=\"dataframe\">\n",
       "  <thead>\n",
       "    <tr style=\"text-align: right;\">\n",
       "      <th></th>\n",
       "      <th>Glucose</th>\n",
       "      <th>BloodPressure</th>\n",
       "      <th>SkinThickness</th>\n",
       "      <th>Insulin</th>\n",
       "      <th>BMI</th>\n",
       "    </tr>\n",
       "  </thead>\n",
       "  <tbody>\n",
       "    <tr>\n",
       "      <th>0</th>\n",
       "      <td>138.0</td>\n",
       "      <td>62.000000</td>\n",
       "      <td>35.000000</td>\n",
       "      <td>154.255319</td>\n",
       "      <td>33.6</td>\n",
       "    </tr>\n",
       "    <tr>\n",
       "      <th>1</th>\n",
       "      <td>84.0</td>\n",
       "      <td>82.000000</td>\n",
       "      <td>31.000000</td>\n",
       "      <td>125.000000</td>\n",
       "      <td>38.2</td>\n",
       "    </tr>\n",
       "    <tr>\n",
       "      <th>2</th>\n",
       "      <td>145.0</td>\n",
       "      <td>72.347218</td>\n",
       "      <td>29.278997</td>\n",
       "      <td>154.255319</td>\n",
       "      <td>44.2</td>\n",
       "    </tr>\n",
       "    <tr>\n",
       "      <th>3</th>\n",
       "      <td>135.0</td>\n",
       "      <td>68.000000</td>\n",
       "      <td>42.000000</td>\n",
       "      <td>250.000000</td>\n",
       "      <td>42.3</td>\n",
       "    </tr>\n",
       "    <tr>\n",
       "      <th>4</th>\n",
       "      <td>139.0</td>\n",
       "      <td>62.000000</td>\n",
       "      <td>41.000000</td>\n",
       "      <td>480.000000</td>\n",
       "      <td>40.7</td>\n",
       "    </tr>\n",
       "  </tbody>\n",
       "</table>\n",
       "</div>"
      ],
      "text/plain": [
       "   Glucose  BloodPressure  SkinThickness     Insulin   BMI\n",
       "0    138.0      62.000000      35.000000  154.255319  33.6\n",
       "1     84.0      82.000000      31.000000  125.000000  38.2\n",
       "2    145.0      72.347218      29.278997  154.255319  44.2\n",
       "3    135.0      68.000000      42.000000  250.000000  42.3\n",
       "4    139.0      62.000000      41.000000  480.000000  40.7"
      ]
     },
     "execution_count": 22,
     "metadata": {},
     "output_type": "execute_result"
    }
   ],
   "source": [
    "x.head()"
   ]
  },
  {
   "cell_type": "code",
   "execution_count": 23,
   "metadata": {
    "ExecuteTime": {
     "end_time": "2020-12-20T13:02:38.600065Z",
     "start_time": "2020-12-20T13:02:38.579821Z"
    },
    "scrolled": true
   },
   "outputs": [
    {
     "data": {
      "text/plain": [
       "0    1\n",
       "1    0\n",
       "2    1\n",
       "3    1\n",
       "4    0\n",
       "Name: Outcome, dtype: int64"
      ]
     },
     "execution_count": 23,
     "metadata": {},
     "output_type": "execute_result"
    }
   ],
   "source": [
    "y.head()"
   ]
  },
  {
   "cell_type": "code",
   "execution_count": 24,
   "metadata": {
    "ExecuteTime": {
     "end_time": "2020-12-20T13:02:41.570154Z",
     "start_time": "2020-12-20T13:02:41.192149Z"
    }
   },
   "outputs": [],
   "source": [
    "# Training Model using train_test_split\n",
    "from sklearn.model_selection import train_test_split"
   ]
  },
  {
   "cell_type": "code",
   "execution_count": 25,
   "metadata": {
    "ExecuteTime": {
     "end_time": "2020-12-20T13:02:41.609369Z",
     "start_time": "2020-12-20T13:02:41.581095Z"
    }
   },
   "outputs": [
    {
     "name": "stdout",
     "output_type": "stream",
     "text": [
      "            x\t\t y             \n",
      "Train set: (8256, 5) (8256,)\n",
      "Test set: (2065, 5) (2065,)\n"
     ]
    }
   ],
   "source": [
    "# Train Test Split\n",
    "x_train, x_test, y_train, y_test = train_test_split(x, y, test_size=0.2, random_state=4)\n",
    "print(\" x\\t\\t y \".center(30))\n",
    "print ('Train set:', x_train.shape,  y_train.shape)\n",
    "print ('Test set:', x_test.shape,  y_test.shape)"
   ]
  },
  {
   "cell_type": "code",
   "execution_count": 26,
   "metadata": {
    "ExecuteTime": {
     "end_time": "2020-12-20T13:02:45.840716Z",
     "start_time": "2020-12-20T13:02:43.960639Z"
    }
   },
   "outputs": [],
   "source": [
    "#imporing all algorithm \n",
    "from sklearn.linear_model import LogisticRegression\n",
    "from sklearn.ensemble import RandomForestClassifier\n",
    "from sklearn.tree import DecisionTreeClassifier\n",
    "from sklearn.neighbors import KNeighborsClassifier\n",
    "from sklearn.metrics import accuracy_score"
   ]
  },
  {
   "cell_type": "code",
   "execution_count": 27,
   "metadata": {
    "ExecuteTime": {
     "end_time": "2020-12-20T13:02:45.986774Z",
     "start_time": "2020-12-20T13:02:45.848411Z"
    }
   },
   "outputs": [
    {
     "data": {
      "text/plain": [
       "LogisticRegression()"
      ]
     },
     "execution_count": 27,
     "metadata": {},
     "output_type": "execute_result"
    }
   ],
   "source": [
    "# Training the data\n",
    "LR = LogisticRegression()\n",
    "LR.fit(x_train, y_train)"
   ]
  },
  {
   "cell_type": "code",
   "execution_count": 28,
   "metadata": {
    "ExecuteTime": {
     "end_time": "2020-12-20T13:02:48.422737Z",
     "start_time": "2020-12-20T13:02:48.409015Z"
    }
   },
   "outputs": [
    {
     "name": "stdout",
     "output_type": "stream",
     "text": [
      "Test set Accuracy:  0.7559322033898305\n"
     ]
    }
   ],
   "source": [
    "# Predicting\n",
    "y_pred_LR = LR.predict(x_test)\n",
    "print(\"Test set Accuracy: \",accuracy_score(y_test, y_pred_LR))"
   ]
  },
  {
   "cell_type": "code",
   "execution_count": 29,
   "metadata": {
    "ExecuteTime": {
     "end_time": "2020-12-20T13:09:48.724262Z",
     "start_time": "2020-12-20T13:09:48.205347Z"
    }
   },
   "outputs": [
    {
     "data": {
      "text/plain": [
       "array([1.        , 0.99273608, 0.99273608, 0.98692494, 0.98595642,\n",
       "       0.97917676, 0.97433414, 0.97433414, 0.97530266])"
      ]
     },
     "execution_count": 29,
     "metadata": {},
     "output_type": "execute_result"
    }
   ],
   "source": [
    "from sklearn import metrics\n",
    "\n",
    "Ks = 10\n",
    "mean_acc = np.zeros((Ks-1))\n",
    "\n",
    "for n in range(1,Ks): #1-10\n",
    "    \n",
    "    #Train Model and Predict  \n",
    "    neigh = KNeighborsClassifier(n_neighbors = n).fit(x_train,y_train)\n",
    "    yhat=neigh.predict(x_test)\n",
    "    mean_acc[n-1] = metrics.accuracy_score(y_test, yhat)\n",
    "\n",
    "mean_acc"
   ]
  },
  {
   "cell_type": "code",
   "execution_count": 30,
   "metadata": {
    "ExecuteTime": {
     "end_time": "2020-11-03T13:26:42.212826Z",
     "start_time": "2020-11-03T13:26:42.198199Z"
    }
   },
   "outputs": [
    {
     "name": "stdout",
     "output_type": "stream",
     "text": [
      "The best accuracy was with 1.0 with k= 1\n"
     ]
    }
   ],
   "source": [
    "print( \"The best accuracy was with\", mean_acc.max(), \"with k=\", mean_acc.argmax()+1) "
   ]
  },
  {
   "cell_type": "code",
   "execution_count": 31,
   "metadata": {
    "ExecuteTime": {
     "end_time": "2020-12-20T13:11:47.903148Z",
     "start_time": "2020-12-20T13:11:47.888396Z"
    },
    "code_folding": []
   },
   "outputs": [
    {
     "data": {
      "text/plain": [
       "KNeighborsClassifier(n_neighbors=1)"
      ]
     },
     "execution_count": 31,
     "metadata": {},
     "output_type": "execute_result"
    }
   ],
   "source": [
    "# Training the data\n",
    "KNC = KNeighborsClassifier(n_neighbors = 1)\n",
    "KNC.fit(x_train,y_train)"
   ]
  },
  {
   "cell_type": "code",
   "execution_count": 32,
   "metadata": {
    "ExecuteTime": {
     "end_time": "2020-12-20T13:11:48.941247Z",
     "start_time": "2020-12-20T13:11:48.895308Z"
    }
   },
   "outputs": [
    {
     "name": "stdout",
     "output_type": "stream",
     "text": [
      "Test set Accuracy:  1.0\n"
     ]
    }
   ],
   "source": [
    "# Predicting\n",
    "y_pred_KNC=KNC.predict(x_test)\n",
    "print(\"Test set Accuracy: \",accuracy_score(y_test, y_pred_KNC))"
   ]
  },
  {
   "cell_type": "code",
   "execution_count": 33,
   "metadata": {
    "ExecuteTime": {
     "end_time": "2020-12-20T13:11:54.490581Z",
     "start_time": "2020-12-20T13:11:54.468081Z"
    }
   },
   "outputs": [
    {
     "name": "stdout",
     "output_type": "stream",
     "text": [
      "Logistic Regression : 0.7559322033898305\n",
      "K-Nearest Neighbors Classifier: 1.0\n"
     ]
    }
   ],
   "source": [
    "print(\"Logistic Regression :\",accuracy_score(y_test, y_pred_LR))\n",
    "print(\"K-Nearest Neighbors Classifier:\",accuracy_score(y_test, y_pred_KNC))"
   ]
  },
  {
   "cell_type": "code",
   "execution_count": null,
   "metadata": {},
   "outputs": [],
   "source": []
  },
  {
   "cell_type": "code",
   "execution_count": null,
   "metadata": {},
   "outputs": [],
   "source": []
  }
 ],
 "metadata": {
  "kernelspec": {
   "display_name": "Python 3 (ipykernel)",
   "language": "python",
   "name": "python3"
  },
  "language_info": {
   "codemirror_mode": {
    "name": "ipython",
    "version": 3
   },
   "file_extension": ".py",
   "mimetype": "text/x-python",
   "name": "python",
   "nbconvert_exporter": "python",
   "pygments_lexer": "ipython3",
   "version": "3.9.12"
  }
 },
 "nbformat": 4,
 "nbformat_minor": 2
}
